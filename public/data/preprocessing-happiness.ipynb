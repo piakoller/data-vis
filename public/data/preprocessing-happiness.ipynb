{
 "cells": [
  {
   "cell_type": "code",
   "execution_count": 2,
   "metadata": {},
   "outputs": [],
   "source": [
    "import csv\n",
    "import pandas as pd\n",
    "\n",
    "happiness_path = './Happiness/World Happiness Report.csv'\n",
    "happy_data = pd.read_csv(happiness_path)"
   ]
  },
  {
   "cell_type": "code",
   "execution_count": 29,
   "metadata": {},
   "outputs": [
    {
     "name": "stdout",
     "output_type": "stream",
     "text": [
      "        Country Name  Year  Life Ladder  Rank\n",
      "0            Denmark  2005     8.018934     1\n",
      "1        Netherlands  2005     7.463979     2\n",
      "2             Sweden  2005     7.376316     3\n",
      "3            Belgium  2005     7.262290     4\n",
      "4              Spain  2005     7.152786     5\n",
      "..               ...   ...          ...   ...\n",
      "542          Croatia  2022     5.578691    28\n",
      "543         Bulgaria  2022     5.378349    29\n",
      "544          Albania  2022     5.212213    30\n",
      "545  North Macedonia  2022     5.166882    31\n",
      "546          Ukraine  2022     4.637436    32\n",
      "\n",
      "[547 rows x 4 columns]\n"
     ]
    }
   ],
   "source": [
    "# print(happy_data)\n",
    "\n",
    "europe = ['Albania', 'Andorra', 'Austria', 'Belgium', 'Bulgaria', 'Bosnia and Herzegovina', 'Belarus',\n",
    "            'Switzerland', 'Czechia', 'Germany', 'Denmark', 'Spain',\n",
    "            'Estonia', 'Finland', 'France', 'United Kingdom',\n",
    "            'Greece', 'Croatia', 'Hungary', 'Ireland', 'Iceland',\n",
    "             'Italy', 'Lithuania', 'Luxembourg',\n",
    "            'Latvia', 'Moldova', 'North Macedonia', 'Montenegro',\n",
    "            'Netherlands', 'Norway', 'Poland', 'Portugal', 'Romania',\n",
    "            'Republic of Serbia', 'Slovakia', 'Slovenia', 'Sweden',\n",
    "            'Ukraine']\n",
    "\n",
    "# Filter the data based on the list of European countries\n",
    "european_data = happy_data[happy_data['Country Name'].isin(europe)]\n",
    "selected_columns = european_data[['Country Name', 'Year', 'Life Ladder']]\n",
    "# print(selected_columns)\n",
    "\n",
    "# Create a DataFrame from the data\n",
    "df_happiness = pd.DataFrame(selected_columns)\n",
    "\n",
    "# Group by 'Year' and rank 'Life Ladder' within each group\n",
    "#df_happiness['Rank'] = df_happiness.groupby('Year')['Life Ladder'].rank(ascending=False).astype(int)\n",
    "df_happiness['Rank'] = df_happiness.groupby('Year')['Life Ladder'].rank(ascending=False, method='dense').astype(int)\n",
    "\n",
    "# Display the DataFrame with rankings\n",
    "# print(df_happiness)\n",
    "\n",
    "# Group by 'Year' and sort countries within each year by 'Life Ladder'\n",
    "sorted_by_ladder = df_happiness.groupby('Year').apply(lambda x: x.sort_values(by='Life Ladder', ascending=False))\n",
    "\n",
    "# Resetting index to flatten the multi-index DataFrame\n",
    "sorted_by_ladder = sorted_by_ladder.reset_index(drop=True)\n",
    "\n",
    "# Display the DataFrame sorted by 'Life Ladder' within each year\n",
    "print(sorted_by_ladder)\n",
    "\n",
    "# print(df_sorted)\n",
    "output_file_path = 'happiness_europe.csv'\n",
    "sorted_by_ladder.to_csv(output_file_path, index=False)\n"
   ]
  }
 ],
 "metadata": {
  "kernelspec": {
   "display_name": "Python 3",
   "language": "python",
   "name": "python3"
  },
  "language_info": {
   "codemirror_mode": {
    "name": "ipython",
    "version": 3
   },
   "file_extension": ".py",
   "mimetype": "text/x-python",
   "name": "python",
   "nbconvert_exporter": "python",
   "pygments_lexer": "ipython3",
   "version": "3.10.11"
  }
 },
 "nbformat": 4,
 "nbformat_minor": 2
}
